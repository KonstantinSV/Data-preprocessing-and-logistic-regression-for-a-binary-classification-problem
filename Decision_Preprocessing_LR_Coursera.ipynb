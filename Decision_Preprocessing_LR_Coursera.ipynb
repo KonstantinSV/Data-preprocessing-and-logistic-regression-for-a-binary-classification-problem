{
  "nbformat": 4,
  "nbformat_minor": 0,
  "metadata": {
    "kernelspec": {
      "display_name": "Python 3",
      "language": "python",
      "name": "python3"
    },
    "language_info": {
      "codemirror_mode": {
        "name": "ipython",
        "version": 3
      },
      "file_extension": ".py",
      "mimetype": "text/x-python",
      "name": "python",
      "nbconvert_exporter": "python",
      "pygments_lexer": "ipython3",
      "version": "3.7.7"
    },
    "colab": {
      "name": "Decision_Preprocessing_LR_Coursera.ipynb",
      "provenance": [],
      "collapsed_sections": [
        "6SchiwMJbTEr",
        "ZLju2u9vbTEw",
        "1m5g-ObTbTE5",
        "6HcQNWtibTE6",
        "x0BLr6J-bTFF",
        "Rf50iNkIbTFV",
        "PTQUmdRobTFd",
        "GLEyE8febTFg",
        "H6ZatXF8bTFk",
        "Uy2WO-UgbTFn",
        "TPIw2hAQbTF8",
        "4MHE3oombTGI",
        "35uhfBWfbTGL"
      ],
      "include_colab_link": true
    }
  },
  "cells": [
    {
      "cell_type": "markdown",
      "metadata": {
        "id": "view-in-github",
        "colab_type": "text"
      },
      "source": [
        "<a href=\"https://colab.research.google.com/github/KonstantinSV/Data-preprocessing-and-logistic-regression-for-a-binary-classification-problem/blob/main/Decision_Preprocessing_LR_Coursera.ipynb\" target=\"_parent\"><img src=\"https://colab.research.google.com/assets/colab-badge.svg\" alt=\"Open In Colab\"/></a>"
      ]
    },
    {
      "cell_type": "markdown",
      "metadata": {
        "id": "IDlLgJGYbTEm"
      },
      "source": [
        "**Корректность проверена на Python 3.6:**\n",
        "+ pandas 0.23.4\n",
        "+ numpy 1.15.4\n",
        "+ matplotlib 3.0.2\n",
        "+ sklearn 0.20.2"
      ]
    },
    {
      "cell_type": "code",
      "metadata": {
        "id": "ZvADeZLWbTEn"
      },
      "source": [
        "import warnings\n",
        "warnings.filterwarnings('ignore')"
      ],
      "execution_count": null,
      "outputs": []
    },
    {
      "cell_type": "markdown",
      "metadata": {
        "id": "P5zPFTJzbTEr"
      },
      "source": [
        "## Предобработка данных и логистическая регрессия для задачи бинарной классификации"
      ]
    },
    {
      "cell_type": "markdown",
      "metadata": {
        "id": "6SchiwMJbTEr"
      },
      "source": [
        "## Programming assignment"
      ]
    },
    {
      "cell_type": "markdown",
      "metadata": {
        "id": "c2DAQGhjbTEs"
      },
      "source": [
        "В задании вам будет предложено ознакомиться с основными техниками предобработки данных, а так же применить их для обучения модели логистической регрессии. Ответ потребуется загрузить в соответствующую форму в виде 6 текстовых файлов."
      ]
    },
    {
      "cell_type": "code",
      "metadata": {
        "id": "ADIz8K8LbTEt"
      },
      "source": [
        "import pandas as pd\n",
        "import numpy as np\n",
        "import matplotlib\n",
        "from matplotlib import pyplot as plt\n",
        "matplotlib.style.use('ggplot')\n",
        "%matplotlib inline\n",
        "\n",
        "import warnings\n",
        "warnings.filterwarnings('ignore')"
      ],
      "execution_count": null,
      "outputs": []
    },
    {
      "cell_type": "markdown",
      "metadata": {
        "id": "ZLju2u9vbTEw"
      },
      "source": [
        "## Описание датасета"
      ]
    },
    {
      "cell_type": "markdown",
      "metadata": {
        "id": "uMWtxaCubTEx"
      },
      "source": [
        "Задача: по 38 признакам, связанных с заявкой на грант (область исследований учёных, информация по их академическому бэкграунду, размер гранта, область, в которой он выдаётся) предсказать, будет ли заявка принята. Датасет включает в себя информацию по 6000 заявкам на гранты, которые были поданы в университете Мельбурна в период с 2004 по 2008 год.\n",
        "\n",
        "Полную версию данных с большим количеством признаков можно найти на https://www.kaggle.com/c/unimelb."
      ]
    },
    {
      "cell_type": "code",
      "metadata": {
        "id": "MYhpvKv3bTEy",
        "colab": {
          "base_uri": "https://localhost:8080/"
        },
        "outputId": "59dbc7cd-294a-45d2-d47b-4c47ccdd6371"
      },
      "source": [
        "data = pd.read_csv('/content/drive/My Drive/Colab Notebooks/Курс 2. Обучение на размеченных данных/Tasks/Третья неделя/data.csv')\n",
        "data.shape"
      ],
      "execution_count": null,
      "outputs": [
        {
          "output_type": "execute_result",
          "data": {
            "text/plain": [
              "(6000, 39)"
            ]
          },
          "metadata": {
            "tags": []
          },
          "execution_count": 4
        }
      ]
    },
    {
      "cell_type": "markdown",
      "metadata": {
        "id": "qvzTB7LbbTE1"
      },
      "source": [
        "Выделим из датасета целевую переменную Grant.Status и обозначим её за y\n",
        "Теперь X обозначает обучающую выборку, y - ответы на ней"
      ]
    },
    {
      "cell_type": "code",
      "metadata": {
        "id": "-SFXxbQnbTE2"
      },
      "source": [
        "X = data.drop('Grant.Status', 1)\n",
        "y = data['Grant.Status']"
      ],
      "execution_count": null,
      "outputs": []
    },
    {
      "cell_type": "markdown",
      "metadata": {
        "id": "1m5g-ObTbTE5"
      },
      "source": [
        "## Теория по логистической регрессии"
      ]
    },
    {
      "cell_type": "markdown",
      "metadata": {
        "id": "NncQiMeHbTE5"
      },
      "source": [
        "После осознания того, какую именно задачу требуется решить на этих данных, следующим шагом при реальном анализе был бы подбор подходящего метода. В данном задании выбор метода было произведён за вас, это логистическая регрессия. Кратко напомним вам используемую модель.\n",
        "\n",
        "Логистическая регрессия предсказывает вероятности принадлежности объекта к каждому классу. Сумма ответов логистической регрессии на одном объекте для всех классов равна единице.\n",
        "\n",
        "$$ \\sum_{k=1}^K \\pi_{ik} = 1, \\quad \\pi_k \\equiv P\\,(y_i = k \\mid x_i, \\theta), $$\n",
        "\n",
        "где:\n",
        "- $\\pi_{ik}$ - вероятность принадлежности объекта $x_i$ из выборки $X$ к классу $k$\n",
        "- $\\theta$ - внутренние параметры алгоритма, которые настраиваются в процессе обучения, в случае логистической регрессии - $w, b$\n",
        "\n",
        "Из этого свойства модели в случае бинарной классификации требуется вычислить лишь вероятность принадлежности объекта к одному из классов (вторая вычисляется из условия нормировки вероятностей). Эта вероятность вычисляется, используя логистическую функцию:\n",
        "\n",
        "$$ P\\,(y_i = 1 \\mid x_i, \\theta) = \\frac{1}{1 + \\exp(-w^T x_i-b)} $$\n",
        "\n",
        "Параметры $w$ и $b$ находятся, как решения следующей задачи оптимизации (указаны функционалы с L1 и L2 регуляризацией, с которыми вы познакомились в предыдущих заданиях):\n",
        "\n",
        "L2-regularization:\n",
        "\n",
        "$$ Q(X, y, \\theta) = \\frac{1}{2} w^T w + C \\sum_{i=1}^l \\log ( 1 + \\exp(-y_i (w^T x_i + b ) ) ) \\longrightarrow \\min\\limits_{w,b} $$\n",
        "\n",
        "L1-regularization:\n",
        "\n",
        "$$ Q(X, y, \\theta) = \\sum_{d=1}^D |w_d| + C \\sum_{i=1}^l \\log ( 1 + \\exp(-y_i (w^T x_i + b ) ) ) \\longrightarrow \\min\\limits_{w,b} $$\n",
        "\n",
        "$C$ - это стандартный гиперпараметр модели, который регулирует то, насколько сильно мы позволяем модели подстраиваться под данные."
      ]
    },
    {
      "cell_type": "markdown",
      "metadata": {
        "id": "6HcQNWtibTE6"
      },
      "source": [
        "## Предобработка данных"
      ]
    },
    {
      "cell_type": "markdown",
      "metadata": {
        "id": "fr2Y27GUbTE6"
      },
      "source": [
        "Из свойств данной модели следует, что:\n",
        "- все $X$ должны быть числовыми данными (в случае наличия среди них категорий, их требуется некоторым способом преобразовать в вещественные числа)\n",
        "- среди $X$ не должно быть пропущенных значений (т.е. все пропущенные значения перед применением модели следует каким-то образом заполнить)\n",
        "\n",
        "Поэтому базовым этапом в предобработке любого датасета для логистической регрессии будет кодирование категориальных признаков, а так же удаление или интерпретация пропущенных значений (при наличии того или другого)."
      ]
    },
    {
      "cell_type": "code",
      "metadata": {
        "id": "Vgl6E6c7bTE7",
        "colab": {
          "base_uri": "https://localhost:8080/"
        },
        "outputId": "953c8e19-88e7-4bea-d705-3599bfeaad23"
      },
      "source": [
        "data.head()"
      ],
      "execution_count": null,
      "outputs": [
        {
          "output_type": "execute_result",
          "data": {
            "text/html": [
              "<div>\n",
              "<style scoped>\n",
              "    .dataframe tbody tr th:only-of-type {\n",
              "        vertical-align: middle;\n",
              "    }\n",
              "\n",
              "    .dataframe tbody tr th {\n",
              "        vertical-align: top;\n",
              "    }\n",
              "\n",
              "    .dataframe thead th {\n",
              "        text-align: right;\n",
              "    }\n",
              "</style>\n",
              "<table border=\"1\" class=\"dataframe\">\n",
              "  <thead>\n",
              "    <tr style=\"text-align: right;\">\n",
              "      <th></th>\n",
              "      <th>Grant.Status</th>\n",
              "      <th>Sponsor.Code</th>\n",
              "      <th>Grant.Category.Code</th>\n",
              "      <th>Contract.Value.Band...see.note.A</th>\n",
              "      <th>RFCD.Code.1</th>\n",
              "      <th>RFCD.Percentage.1</th>\n",
              "      <th>RFCD.Code.2</th>\n",
              "      <th>RFCD.Percentage.2</th>\n",
              "      <th>RFCD.Code.3</th>\n",
              "      <th>RFCD.Percentage.3</th>\n",
              "      <th>RFCD.Code.4</th>\n",
              "      <th>RFCD.Percentage.4</th>\n",
              "      <th>RFCD.Code.5</th>\n",
              "      <th>RFCD.Percentage.5</th>\n",
              "      <th>SEO.Code.1</th>\n",
              "      <th>SEO.Percentage.1</th>\n",
              "      <th>SEO.Code.2</th>\n",
              "      <th>SEO.Percentage.2</th>\n",
              "      <th>SEO.Code.3</th>\n",
              "      <th>SEO.Percentage.3</th>\n",
              "      <th>SEO.Code.4</th>\n",
              "      <th>SEO.Percentage.4</th>\n",
              "      <th>SEO.Code.5</th>\n",
              "      <th>SEO.Percentage.5</th>\n",
              "      <th>Person.ID.1</th>\n",
              "      <th>Role.1</th>\n",
              "      <th>Year.of.Birth.1</th>\n",
              "      <th>Country.of.Birth.1</th>\n",
              "      <th>Home.Language.1</th>\n",
              "      <th>Dept.No..1</th>\n",
              "      <th>Faculty.No..1</th>\n",
              "      <th>With.PHD.1</th>\n",
              "      <th>No..of.Years.in.Uni.at.Time.of.Grant.1</th>\n",
              "      <th>Number.of.Successful.Grant.1</th>\n",
              "      <th>Number.of.Unsuccessful.Grant.1</th>\n",
              "      <th>A..1</th>\n",
              "      <th>A.1</th>\n",
              "      <th>B.1</th>\n",
              "      <th>C.1</th>\n",
              "    </tr>\n",
              "  </thead>\n",
              "  <tbody>\n",
              "    <tr>\n",
              "      <th>0</th>\n",
              "      <td>1</td>\n",
              "      <td>21A</td>\n",
              "      <td>50A</td>\n",
              "      <td>A</td>\n",
              "      <td>230202.0</td>\n",
              "      <td>50.0</td>\n",
              "      <td>230203.0</td>\n",
              "      <td>30.0</td>\n",
              "      <td>230204.0</td>\n",
              "      <td>20.0</td>\n",
              "      <td>0.0</td>\n",
              "      <td>0.0</td>\n",
              "      <td>0.0</td>\n",
              "      <td>0.0</td>\n",
              "      <td>780101.0</td>\n",
              "      <td>100.0</td>\n",
              "      <td>0.0</td>\n",
              "      <td>0.0</td>\n",
              "      <td>0.0</td>\n",
              "      <td>0.0</td>\n",
              "      <td>0.0</td>\n",
              "      <td>0.0</td>\n",
              "      <td>0.0</td>\n",
              "      <td>0.0</td>\n",
              "      <td>493297.0</td>\n",
              "      <td>CHIEF_INVESTIGATOR</td>\n",
              "      <td>1965.0</td>\n",
              "      <td>Australia</td>\n",
              "      <td>NaN</td>\n",
              "      <td>3098.0</td>\n",
              "      <td>31.0</td>\n",
              "      <td>Yes</td>\n",
              "      <td>&gt;=0 to 5</td>\n",
              "      <td>2.0</td>\n",
              "      <td>0.0</td>\n",
              "      <td>0.0</td>\n",
              "      <td>4.0</td>\n",
              "      <td>2.0</td>\n",
              "      <td>0.0</td>\n",
              "    </tr>\n",
              "    <tr>\n",
              "      <th>1</th>\n",
              "      <td>1</td>\n",
              "      <td>4D</td>\n",
              "      <td>10A</td>\n",
              "      <td>D</td>\n",
              "      <td>320801.0</td>\n",
              "      <td>100.0</td>\n",
              "      <td>0.0</td>\n",
              "      <td>0.0</td>\n",
              "      <td>0.0</td>\n",
              "      <td>0.0</td>\n",
              "      <td>0.0</td>\n",
              "      <td>0.0</td>\n",
              "      <td>0.0</td>\n",
              "      <td>0.0</td>\n",
              "      <td>730112.0</td>\n",
              "      <td>100.0</td>\n",
              "      <td>0.0</td>\n",
              "      <td>0.0</td>\n",
              "      <td>0.0</td>\n",
              "      <td>0.0</td>\n",
              "      <td>0.0</td>\n",
              "      <td>0.0</td>\n",
              "      <td>0.0</td>\n",
              "      <td>0.0</td>\n",
              "      <td>330592.0</td>\n",
              "      <td>CHIEF_INVESTIGATOR</td>\n",
              "      <td>1965.0</td>\n",
              "      <td>Australia</td>\n",
              "      <td>NaN</td>\n",
              "      <td>2553.0</td>\n",
              "      <td>25.0</td>\n",
              "      <td>Yes</td>\n",
              "      <td>&gt;=0 to 5</td>\n",
              "      <td>3.0</td>\n",
              "      <td>1.0</td>\n",
              "      <td>0.0</td>\n",
              "      <td>2.0</td>\n",
              "      <td>0.0</td>\n",
              "      <td>0.0</td>\n",
              "    </tr>\n",
              "    <tr>\n",
              "      <th>2</th>\n",
              "      <td>0</td>\n",
              "      <td>NaN</td>\n",
              "      <td>NaN</td>\n",
              "      <td>NaN</td>\n",
              "      <td>320602.0</td>\n",
              "      <td>50.0</td>\n",
              "      <td>321004.0</td>\n",
              "      <td>30.0</td>\n",
              "      <td>321015.0</td>\n",
              "      <td>20.0</td>\n",
              "      <td>0.0</td>\n",
              "      <td>0.0</td>\n",
              "      <td>0.0</td>\n",
              "      <td>0.0</td>\n",
              "      <td>730203.0</td>\n",
              "      <td>60.0</td>\n",
              "      <td>730105.0</td>\n",
              "      <td>20.0</td>\n",
              "      <td>730108.0</td>\n",
              "      <td>20.0</td>\n",
              "      <td>0.0</td>\n",
              "      <td>0.0</td>\n",
              "      <td>0.0</td>\n",
              "      <td>0.0</td>\n",
              "      <td>66887.0</td>\n",
              "      <td>CHIEF_INVESTIGATOR</td>\n",
              "      <td>1955.0</td>\n",
              "      <td>Australia</td>\n",
              "      <td>NaN</td>\n",
              "      <td>2813.0</td>\n",
              "      <td>25.0</td>\n",
              "      <td>NaN</td>\n",
              "      <td>Less than 0</td>\n",
              "      <td>1.0</td>\n",
              "      <td>5.0</td>\n",
              "      <td>0.0</td>\n",
              "      <td>7.0</td>\n",
              "      <td>2.0</td>\n",
              "      <td>0.0</td>\n",
              "    </tr>\n",
              "    <tr>\n",
              "      <th>3</th>\n",
              "      <td>0</td>\n",
              "      <td>51C</td>\n",
              "      <td>20C</td>\n",
              "      <td>A</td>\n",
              "      <td>291503.0</td>\n",
              "      <td>60.0</td>\n",
              "      <td>321402.0</td>\n",
              "      <td>40.0</td>\n",
              "      <td>0.0</td>\n",
              "      <td>0.0</td>\n",
              "      <td>0.0</td>\n",
              "      <td>0.0</td>\n",
              "      <td>0.0</td>\n",
              "      <td>0.0</td>\n",
              "      <td>730114.0</td>\n",
              "      <td>60.0</td>\n",
              "      <td>671401.0</td>\n",
              "      <td>40.0</td>\n",
              "      <td>0.0</td>\n",
              "      <td>0.0</td>\n",
              "      <td>0.0</td>\n",
              "      <td>0.0</td>\n",
              "      <td>0.0</td>\n",
              "      <td>0.0</td>\n",
              "      <td>63812.0</td>\n",
              "      <td>CHIEF_INVESTIGATOR</td>\n",
              "      <td>1950.0</td>\n",
              "      <td>Great Britain</td>\n",
              "      <td>NaN</td>\n",
              "      <td>2553.0</td>\n",
              "      <td>25.0</td>\n",
              "      <td>NaN</td>\n",
              "      <td>more than 15</td>\n",
              "      <td>2.0</td>\n",
              "      <td>1.0</td>\n",
              "      <td>5.0</td>\n",
              "      <td>6.0</td>\n",
              "      <td>9.0</td>\n",
              "      <td>1.0</td>\n",
              "    </tr>\n",
              "    <tr>\n",
              "      <th>4</th>\n",
              "      <td>0</td>\n",
              "      <td>24D</td>\n",
              "      <td>30B</td>\n",
              "      <td>NaN</td>\n",
              "      <td>380107.0</td>\n",
              "      <td>100.0</td>\n",
              "      <td>0.0</td>\n",
              "      <td>0.0</td>\n",
              "      <td>0.0</td>\n",
              "      <td>0.0</td>\n",
              "      <td>0.0</td>\n",
              "      <td>0.0</td>\n",
              "      <td>0.0</td>\n",
              "      <td>0.0</td>\n",
              "      <td>730108.0</td>\n",
              "      <td>50.0</td>\n",
              "      <td>730306.0</td>\n",
              "      <td>50.0</td>\n",
              "      <td>0.0</td>\n",
              "      <td>0.0</td>\n",
              "      <td>0.0</td>\n",
              "      <td>0.0</td>\n",
              "      <td>0.0</td>\n",
              "      <td>0.0</td>\n",
              "      <td>13687.0</td>\n",
              "      <td>CHIEF_INVESTIGATOR</td>\n",
              "      <td>1970.0</td>\n",
              "      <td>Australia</td>\n",
              "      <td>NaN</td>\n",
              "      <td>2923.0</td>\n",
              "      <td>25.0</td>\n",
              "      <td>NaN</td>\n",
              "      <td>Less than 0</td>\n",
              "      <td>0.0</td>\n",
              "      <td>2.0</td>\n",
              "      <td>0.0</td>\n",
              "      <td>0.0</td>\n",
              "      <td>0.0</td>\n",
              "      <td>0.0</td>\n",
              "    </tr>\n",
              "  </tbody>\n",
              "</table>\n",
              "</div>"
            ],
            "text/plain": [
              "   Grant.Status Sponsor.Code Grant.Category.Code  ...  A.1  B.1  C.1\n",
              "0             1          21A                 50A  ...  4.0  2.0  0.0\n",
              "1             1           4D                 10A  ...  2.0  0.0  0.0\n",
              "2             0          NaN                 NaN  ...  7.0  2.0  0.0\n",
              "3             0          51C                 20C  ...  6.0  9.0  1.0\n",
              "4             0          24D                 30B  ...  0.0  0.0  0.0\n",
              "\n",
              "[5 rows x 39 columns]"
            ]
          },
          "metadata": {
            "tags": []
          },
          "execution_count": 6
        }
      ]
    },
    {
      "cell_type": "markdown",
      "metadata": {
        "id": "QPS6LoskbTE-"
      },
      "source": [
        "Видно, что в датасете есть как числовые, так и категориальные признаки. Получим списки их названий:"
      ]
    },
    {
      "cell_type": "code",
      "metadata": {
        "id": "5dhGkrBMbTE_"
      },
      "source": [
        "numeric_cols = ['RFCD.Percentage.1', 'RFCD.Percentage.2', 'RFCD.Percentage.3', \n",
        "                'RFCD.Percentage.4', 'RFCD.Percentage.5',\n",
        "                'SEO.Percentage.1', 'SEO.Percentage.2', 'SEO.Percentage.3',\n",
        "                'SEO.Percentage.4', 'SEO.Percentage.5',\n",
        "                'Year.of.Birth.1', 'Number.of.Successful.Grant.1', 'Number.of.Unsuccessful.Grant.1']\n",
        "categorical_cols = list(set(X.columns.values.tolist()) - set(numeric_cols))"
      ],
      "execution_count": null,
      "outputs": []
    },
    {
      "cell_type": "markdown",
      "metadata": {
        "id": "KQB9Ecp9bTFC"
      },
      "source": [
        "Также в нём присутствуют пропущенные значения. Очевидны решением будет исключение всех данных, у которых пропущено хотя бы одно значение. Сделаем это:"
      ]
    },
    {
      "cell_type": "code",
      "metadata": {
        "id": "cYMDu0pkbTFC",
        "colab": {
          "base_uri": "https://localhost:8080/"
        },
        "outputId": "7400b549-f9ea-41a8-95d6-96b342be6d3e"
      },
      "source": [
        "data.dropna().shape"
      ],
      "execution_count": null,
      "outputs": [
        {
          "output_type": "execute_result",
          "data": {
            "text/plain": [
              "(213, 39)"
            ]
          },
          "metadata": {
            "tags": []
          },
          "execution_count": 8
        }
      ]
    },
    {
      "cell_type": "markdown",
      "metadata": {
        "id": "sAaBJp2vbTFF"
      },
      "source": [
        "Видно, что тогда мы выбросим почти все данные, и такой метод решения в данном случае не сработает.\n",
        "\n",
        "Пропущенные значения можно так же интерпретировать, для этого существует несколько способов, они различаются для категориальных и вещественных признаков.\n",
        "\n",
        "Для вещественных признаков:\n",
        "- заменить на 0 (данный признак давать вклад в предсказание для данного объекта не будет)\n",
        "- заменить на среднее (каждый пропущенный признак будет давать такой же вклад, как и среднее значение признака на датасете)\n",
        "\n",
        "Для категориальных:\n",
        "- интерпретировать пропущенное значение, как ещё одну категорию (данный способ является самым естественным, так как в случае категорий у нас есть уникальная возможность не потерять информацию о наличии пропущенных значений; обратите внимание, что в случае вещественных признаков данная информация неизбежно теряется)"
      ]
    },
    {
      "cell_type": "markdown",
      "metadata": {
        "id": "x0BLr6J-bTFF"
      },
      "source": [
        "##  Задание 0. Обработка пропущенных значений.\n",
        "1. Заполните пропущенные вещественные значения в X нулями и средними по столбцам, назовите полученные датафреймы X_real_zeros и X_real_mean соответственно. Для подсчёта средних используйте описанную ниже функцию calculate_means, которой требуется передать на вход вешественные признаки из исходного датафрейма. **Для подсчета среднего можно использовать функцию pandas.mean()**\n",
        "2. Все категориальные признаки в X преобразуйте в строки, пропущенные значения требуется также преобразовать в какие-либо строки, которые не являются категориями (например, 'NA'), полученный датафрейм назовите X_cat.\n",
        "\n",
        "Для объединения выборок здесь и далее в задании рекомендуется использовать функции\n",
        "\n",
        "    np.hstack(...)\n",
        "    np.vstack(...)"
      ]
    },
    {
      "cell_type": "code",
      "metadata": {
        "id": "AFE2k42ObTFG"
      },
      "source": [
        "# Фун-ия подсчета среднего. Можно также использовать pandas.mean()\n",
        "def calculate_means(numeric_data):\n",
        "    means = np.zeros(numeric_data.shape[1]) # создаем массив из 0 длиной как количество столбцов в numeric_data\n",
        "    for j in range(numeric_data.shape[1]):\n",
        "        to_sum = numeric_data.iloc[:,j] # \n",
        "        indices = np.nonzero(~numeric_data.iloc[:,j].isnull().to_numpy())[0]\n",
        "        correction = np.amax(to_sum[indices])\n",
        "        to_sum /= correction\n",
        "        for i in indices:\n",
        "            means[j] += to_sum[i]\n",
        "        means[j] /= indices.size\n",
        "        means[j] *= correction\n",
        "    return pd.Series(means, numeric_data.columns)"
      ],
      "execution_count": null,
      "outputs": []
    },
    {
      "cell_type": "code",
      "metadata": {
        "id": "wN5laNLnbTFI"
      },
      "source": [
        "# place your code here\n",
        "X_cat = X[categorical_cols].fillna('NA').astype(str)\n",
        "X_real_zeros = X[numeric_cols].fillna(0)\n",
        "X_real_mean = X[numeric_cols].fillna(calculate_means(X[numeric_cols])) # Можно посчитать среднее по столбцам числовых признаков с помощью X[numeric_cols].fillna(pd.DataFrame.mean(X[numeric_cols]))."
      ],
      "execution_count": null,
      "outputs": []
    },
    {
      "cell_type": "markdown",
      "metadata": {
        "id": "NFJLKFK-bTFL"
      },
      "source": [
        "## Преобразование категориальных признаков."
      ]
    },
    {
      "cell_type": "markdown",
      "metadata": {
        "id": "mJdDKauYbTFM"
      },
      "source": [
        "В предыдущей ячейке мы разделили наш датасет ещё на две части: в одной присутствуют только вещественные признаки, в другой только категориальные. Это понадобится нам для раздельной последующей обработке этих данных, а так же для сравнения качества работы тех или иных методов.\n",
        "\n",
        "Для использования модели регрессии требуется преобразовать категориальные признаки в вещественные. Рассмотрим основной способ преоборазования категориальных признаков в вещественные: one-hot encoding. Его идея заключается в том, что мы преобразуем категориальный признак при помощи бинарного кода: каждой категории ставим в соответствие набор из нулей и единиц.\n",
        "\n",
        "Посмотрим, как данный метод работает на простом наборе данных."
      ]
    },
    {
      "cell_type": "code",
      "metadata": {
        "id": "fkE_zFvmbTFM",
        "colab": {
          "base_uri": "https://localhost:8080/",
          "height": 272
        },
        "outputId": "a7cae6ca-340b-4cc2-ef7e-e6ae0f148c11"
      },
      "source": [
        "from sklearn.linear_model import LogisticRegression as LR\n",
        "from sklearn.feature_extraction import DictVectorizer as DV\n",
        "\n",
        "categorial_data = pd.DataFrame({'sex': ['male', 'female', 'male', 'female'], \n",
        "                                'nationality': ['American', 'European', 'Asian', 'European']})\n",
        "print('Исходные данные:\\n')\n",
        "print(categorial_data)\n",
        "encoder = DV(sparse = False)\n",
        "encoded_data = encoder.fit_transform(categorial_data.T.to_dict().values())\n",
        "print('\\nЗакодированные данные:\\n')\n",
        "print(encoded_data)"
      ],
      "execution_count": null,
      "outputs": [
        {
          "output_type": "stream",
          "text": [
            "Исходные данные:\n",
            "\n",
            "      sex nationality\n",
            "0    male    American\n",
            "1  female    European\n",
            "2    male       Asian\n",
            "3  female    European\n",
            "\n",
            "Закодированные данные:\n",
            "\n",
            "[[1. 0. 0. 0. 1.]\n",
            " [0. 0. 1. 1. 0.]\n",
            " [0. 1. 0. 0. 1.]\n",
            " [0. 0. 1. 1. 0.]]\n"
          ],
          "name": "stdout"
        }
      ]
    },
    {
      "cell_type": "markdown",
      "metadata": {
        "id": "ErLhrkunbTFP"
      },
      "source": [
        "Как видно, в первые три колонки оказалась закодированна информация о стране, а во вторые две - о поле. При этом для совпадающих элементов выборки строки будут полностью совпадать. Также из примера видно, что кодирование признаков сильно увеличивает их количество, но полностью сохраняет информацию, в том числе о наличии пропущенных значений (их наличие просто становится одним из бинарных признаков в преобразованных данных).\n",
        "\n",
        "Теперь применим one-hot encoding к категориальным признакам из исходного датасета. Обратите внимание на общий для всех методов преобработки данных интерфейс. Функция\n",
        "\n",
        "    encoder.fit_transform(X)\n",
        "    \n",
        "позволяет вычислить необходимые параметры преобразования, впоследствии к новым данным можно уже применять функцию\n",
        "\n",
        "    encoder.transform(X)\n",
        "    \n",
        "Очень важно применять одинаковое преобразование как к обучающим, так и тестовым данным, потому что в противном случае вы получите непредсказуемые, и, скорее всего, плохие результаты. В частности, если вы отдельно закодируете обучающую и тестовую выборку, то получите вообще говоря разные коды для одних и тех же признаков, и ваше решение работать не будет.\n",
        "\n",
        "Также параметры многих преобразований (например, рассмотренное ниже масштабирование) нельзя вычислять одновременно на данных из обучения и теста, потому что иначе подсчитанные на тесте метрики качества будут давать смещённые оценки на качество работы алгоритма. Кодирование категориальных признаков не считает на обучающей выборке никаких параметров, поэтому его можно применять сразу к всему датасету."
      ]
    },
    {
      "cell_type": "code",
      "metadata": {
        "id": "3ag7KWp7bTFQ"
      },
      "source": [
        "encoder = DV(sparse = False)\n",
        "X_cat_oh = encoder.fit_transform(X_cat.T.to_dict().values())"
      ],
      "execution_count": null,
      "outputs": []
    },
    {
      "cell_type": "markdown",
      "metadata": {
        "id": "icPPILa8bTFT"
      },
      "source": [
        "Для построения метрики качества по результату обучения требуется разделить исходный датасет на обучающую и тестовую выборки.\n",
        "\n",
        "Обращаем внимание на заданный параметр для генератора случайных чисел: random_state. Так как результаты на обучении и тесте будут зависеть от того, как именно вы разделите объекты, то предлагается использовать заранее определённое значение для получение результатов, согласованных с ответами в системе проверки заданий."
      ]
    },
    {
      "cell_type": "code",
      "metadata": {
        "id": "Wl-EFQTPbTFT"
      },
      "source": [
        "from sklearn.model_selection import train_test_split\n",
        "\n",
        "(X_train_real_zeros, \n",
        " X_test_real_zeros, \n",
        " y_train, y_test) = train_test_split(X_real_zeros, y, \n",
        "                                     test_size=0.3, \n",
        "                                     random_state=0)\n",
        "(X_train_real_mean, \n",
        " X_test_real_mean) = train_test_split(X_real_mean, \n",
        "                                      test_size=0.3, \n",
        "                                      random_state=0)\n",
        "(X_train_cat_oh,\n",
        " X_test_cat_oh) = train_test_split(X_cat_oh, \n",
        "                                   test_size=0.3, \n",
        "                                   random_state=0)"
      ],
      "execution_count": null,
      "outputs": []
    },
    {
      "cell_type": "markdown",
      "metadata": {
        "id": "Rf50iNkIbTFV"
      },
      "source": [
        "## Описание классов"
      ]
    },
    {
      "cell_type": "markdown",
      "metadata": {
        "id": "FwowMbj5bTFW"
      },
      "source": [
        "Итак, мы получили первые наборы данных, для которых выполнены оба ограничения логистической регрессии на входные данные. Обучим на них регрессию, используя имеющийся в библиотеке sklearn функционал по подбору гиперпараметров модели\n",
        "    \n",
        "    optimizer = GridSearchCV(estimator, param_grid)\n",
        "\n",
        "где:\n",
        "- estimator - обучающий алгоритм, для которого будет производиться подбор параметров\n",
        "- param_grid - словарь параметров, ключами которого являются строки-названия, которые передаются алгоритму estimator, а значения - набор параметров для перебора\n",
        "\n",
        "Данный класс выполняет кросс-валидацию обучающей выборки для каждого набора параметров и находит те, на которых алгоритм работает лучше всего. Этот метод позволяет настраивать гиперпараметры по обучающей выборке, избегая переобучения. Некоторые опциональные параметры вызова данного класса, которые нам понадобятся:\n",
        "- scoring - функционал качества, максимум которого ищется кросс валидацией, по умолчанию используется функция score() класса esimator\n",
        "- n_jobs - позволяет ускорить кросс-валидацию, выполняя её параллельно, число определяет количество одновременно запущенных задач\n",
        "- cv - количество фолдов, на которые разбивается выборка при кросс-валидации\n",
        "\n",
        "После инициализации класса GridSearchCV, процесс подбора параметров запускается следующим методом:\n",
        "\n",
        "    optimizer.fit(X, y)\n",
        "    \n",
        "На выходе для получения предсказаний можно пользоваться функцией\n",
        "\n",
        "    optimizer.predict(X)\n",
        "    \n",
        "для меток или\n",
        "\n",
        "    optimizer.predict_proba(X)\n",
        "    \n",
        "для вероятностей (в случае использования логистической регрессии).\n",
        "    \n",
        "Также можно напрямую получить оптимальный класс estimator и оптимальные параметры, так как они является атрибутами класса GridSearchCV:\n",
        "- best\\_estimator\\_ - лучший алгоритм\n",
        "- best\\_params\\_ - лучший набор параметров\n",
        "\n",
        "Класс логистической регрессии выглядит следующим образом:\n",
        "\n",
        "    estimator = LogisticRegression(penalty)\n",
        "   \n",
        "где penalty принимает либо значение 'l2', либо 'l1'. По умолчанию устанавливается значение 'l2', и везде в задании, если об этом не оговорено особо, предполагается использование логистической регрессии с L2-регуляризацией."
      ]
    },
    {
      "cell_type": "markdown",
      "metadata": {
        "id": "3hJHNELObTFW"
      },
      "source": [
        "## Задание 1. Сравнение способов заполнения вещественных пропущенных значений.\n",
        "1. Составьте две обучающие выборки из вещественных и категориальных признаков: в одной вещественные признаки, где пропущенные значения заполнены нулями, в другой - средними. Рекомендуется записывать в выборки сначала вещественные, а потом категориальные признаки.\n",
        "2. Обучите на них логистическую регрессию, подбирая параметры из заданной сетки param_grid по методу кросс-валидации с числом фолдов cv=3. В качестве оптимизируемой функции используйте заданную по умолчанию.\n",
        "3. Постройте два графика оценок точности +- их стандратного отклонения в зависимости от гиперпараметра и убедитесь, что вы действительно нашли её максимум. Также обратите внимание на большую дисперсию получаемых оценок (уменьшить её можно увеличением числа фолдов cv).\n",
        "4. Получите две метрики качества AUC ROC на тестовой выборке и сравните их между собой. Какой способ заполнения пропущенных вещественных значений работает лучше? В дальнейшем для выполнения задания в качестве вещественных признаков используйте ту выборку, которая даёт лучшее качество на тесте.\n",
        "5. Передайте два значения AUC ROC (сначала для выборки, заполненной средними, потом для выборки, заполненной нулями) в функцию write_answer_1 и запустите её. Полученный файл является ответом на 1 задание.\n",
        "\n",
        "Информация для интересующихся: вообще говоря, не вполне логично оптимизировать на кросс-валидации заданный по умолчанию в классе логистической регрессии функционал accuracy, а измерять на тесте AUC ROC, но это, как и ограничение размера выборки, сделано для ускорения работы процесса кросс-валидации."
      ]
    },
    {
      "cell_type": "code",
      "metadata": {
        "id": "ahdoMpJ6bTFX"
      },
      "source": [
        "from sklearn.linear_model import LogisticRegression\n",
        "from sklearn.model_selection import GridSearchCV\n",
        "from sklearn.metrics import roc_auc_score\n",
        "\n",
        "def plot_scores(optimizer):\n",
        "    scores=[]\n",
        "    for i in range(len(optimizer.cv_results_['params'])):\n",
        "        scores.append([optimizer.cv_results_['params'][i]['C'], \n",
        "                optimizer.cv_results_['mean_test_score'][i],\n",
        "                optimizer.cv_results_['std_test_score'][i]])\n",
        "    scores = np.array(scores)\n",
        "    plt.semilogx(scores[:,0], scores[:,1])\n",
        "    plt.fill_between(scores[:,0], scores[:,1]-scores[:,2], \n",
        "                                  scores[:,1]+scores[:,2], alpha=0.3)\n",
        "    plt.show()\n",
        "    \n",
        "def write_answer_1(auc_1, auc_2):\n",
        "    auc = (auc_1 + auc_2)/2\n",
        "    with open(\"preprocessing_lr_answer1.txt\", \"w\") as fout:\n",
        "        fout.write(str(auc))\n",
        "        \n",
        "param_grid = {'C': [0.01, 0.05, 0.1, 0.5, 1, 5, 10]}\n",
        "cv = 3\n",
        "\n",
        "# place your code here"
      ],
      "execution_count": null,
      "outputs": []
    },
    {
      "cell_type": "code",
      "metadata": {
        "id": "OazwnuT6Skd8"
      },
      "source": [
        "X_train_zeros = np.hstack((X_train_real_zeros,  X_train_cat_oh))\n",
        "X_train_mean = np.hstack((X_train_real_mean,  X_train_cat_oh))\n",
        "X_test_zeros = np.hstack((X_test_real_zeros,  X_test_cat_oh))\n",
        "X_test_mean = np.hstack((X_test_real_mean,  X_test_cat_oh))"
      ],
      "execution_count": null,
      "outputs": []
    },
    {
      "cell_type": "code",
      "metadata": {
        "id": "oUnrlGnb5hlR"
      },
      "source": [
        "estimator = LogisticRegression()"
      ],
      "execution_count": null,
      "outputs": []
    },
    {
      "cell_type": "code",
      "metadata": {
        "id": "EEKovXqiV3mV",
        "colab": {
          "base_uri": "https://localhost:8080/",
          "height": 145
        },
        "outputId": "e9e55651-ca70-4833-f195-49d2bb10b4a7"
      },
      "source": [
        "grid_cv_zeros = GridSearchCV(estimator, param_grid, cv = 3)\n",
        "grid_cv_zeros.fit(X_train_zeros, y_train)\n",
        "print(grid_cv_zeros.best_score_)\n",
        "print(grid_cv_zeros.best_params_)\n",
        "print(grid_cv_zeros.best_estimator_)"
      ],
      "execution_count": null,
      "outputs": [
        {
          "output_type": "stream",
          "text": [
            "0.7435714285714287\n",
            "{'C': 0.01}\n",
            "LogisticRegression(C=0.01, class_weight=None, dual=False, fit_intercept=True,\n",
            "                   intercept_scaling=1, l1_ratio=None, max_iter=100,\n",
            "                   multi_class='auto', n_jobs=None, penalty='l2',\n",
            "                   random_state=None, solver='lbfgs', tol=0.0001, verbose=0,\n",
            "                   warm_start=False)\n"
          ],
          "name": "stdout"
        }
      ]
    },
    {
      "cell_type": "code",
      "metadata": {
        "id": "-j2tampo7cVu",
        "colab": {
          "base_uri": "https://localhost:8080/",
          "height": 269
        },
        "outputId": "5ae63c7c-ee68-4af3-9c38-2cafdb57defa"
      },
      "source": [
        "plot_scores(grid_cv_zeros)\n"
      ],
      "execution_count": null,
      "outputs": [
        {
          "output_type": "display_data",
          "data": {
            "image/png": "[encoded data removed]",
            "text/plain": [
              "<Figure size 432x288 with 1 Axes>"
            ]
          },
          "metadata": {
            "tags": [],
            "needs_background": "light"
          }
        }
      ]
    },
    {
      "cell_type": "code",
      "metadata": {
        "id": "j4B8O92WFWKM",
        "colab": {
          "base_uri": "https://localhost:8080/",
          "height": 145
        },
        "outputId": "d984af86-d541-4b70-8872-220c11ad967a"
      },
      "source": [
        "grid_cv_mean = GridSearchCV(estimator, param_grid, cv = 3)\n",
        "grid_cv_mean.fit(X_train_mean, y_train)\n",
        "print(grid_cv_mean.best_score_)\n",
        "print(grid_cv_mean.best_params_)\n",
        "print(grid_cv_mean.best_estimator_)"
      ],
      "execution_count": null,
      "outputs": [
        {
          "output_type": "stream",
          "text": [
            "0.7585714285714286\n",
            "{'C': 0.5}\n",
            "LogisticRegression(C=0.5, class_weight=None, dual=False, fit_intercept=True,\n",
            "                   intercept_scaling=1, l1_ratio=None, max_iter=100,\n",
            "                   multi_class='auto', n_jobs=None, penalty='l2',\n",
            "                   random_state=None, solver='lbfgs', tol=0.0001, verbose=0,\n",
            "                   warm_start=False)\n"
          ],
          "name": "stdout"
        }
      ]
    },
    {
      "cell_type": "code",
      "metadata": {
        "id": "fL6w0chhFrzA",
        "colab": {
          "base_uri": "https://localhost:8080/",
          "height": 269
        },
        "outputId": "994948c5-d8b2-409c-fa42-ba214c4d9822"
      },
      "source": [
        "plot_scores(grid_cv_mean)"
      ],
      "execution_count": null,
      "outputs": [
        {
          "output_type": "display_data",
          "data": {
            "image/png": "[encoded data removed]",
            "text/plain": [
              "<Figure size 432x288 with 1 Axes>"
            ]
          },
          "metadata": {
            "tags": [],
            "needs_background": "light"
          }
        }
      ]
    },
    {
      "cell_type": "code",
      "metadata": {
        "id": "nTyFF7zLH4H_",
        "colab": {
          "base_uri": "https://localhost:8080/",
          "height": 35
        },
        "outputId": "5fa537bb-348b-4d77-8663-eba844b295c4"
      },
      "source": [
        "predict_proba_zeros = grid_cv_zeros.predict_proba(X_test_zeros)[:, 1]\n",
        "AUC_zeros = roc_auc_score(y_test, predict_proba_zeros)\n",
        "AUC_zeros"
      ],
      "execution_count": null,
      "outputs": [
        {
          "output_type": "execute_result",
          "data": {
            "text/plain": [
              "0.805423120184223"
            ]
          },
          "metadata": {
            "tags": []
          },
          "execution_count": 21
        }
      ]
    },
    {
      "cell_type": "code",
      "metadata": {
        "id": "gKA5sII1Kic6",
        "colab": {
          "base_uri": "https://localhost:8080/",
          "height": 35
        },
        "outputId": "abfdfe55-00fe-483e-a0fa-6de55a781670"
      },
      "source": [
        "predict_proba_mean = grid_cv_mean.predict_proba(X_test_mean)[:, 1]\n",
        "AUC_mean = roc_auc_score(y_test, predict_proba_mean)\n",
        "AUC_mean"
      ],
      "execution_count": null,
      "outputs": [
        {
          "output_type": "execute_result",
          "data": {
            "text/plain": [
              "0.7951106909476076"
            ]
          },
          "metadata": {
            "tags": []
          },
          "execution_count": 22
        }
      ]
    },
    {
      "cell_type": "markdown",
      "metadata": {
        "id": "z6xAUd79bTFZ"
      },
      "source": [
        "## Масштабирование вещественных признаков."
      ]
    },
    {
      "cell_type": "markdown",
      "metadata": {
        "id": "krScHhkDbTFa"
      },
      "source": [
        "Попробуем как-то улучшить качество классификации. Для этого посмотрим на сами данные:"
      ]
    },
    {
      "cell_type": "code",
      "metadata": {
        "id": "BSs-ARVLbTFa",
        "colab": {
          "base_uri": "https://localhost:8080/",
          "height": 619
        },
        "outputId": "60c180e5-c9eb-4fc7-827a-a802493ce92a"
      },
      "source": [
        "from pandas.plotting import scatter_matrix\n",
        "\n",
        "data_numeric = pd.DataFrame(X_train_real_zeros, columns=numeric_cols)\n",
        "list_cols = ['Number.of.Successful.Grant.1', 'SEO.Percentage.2', 'Year.of.Birth.1']\n",
        "scatter_matrix(data_numeric[list_cols], alpha=0.5, figsize=(10, 10))\n",
        "plt.show()"
      ],
      "execution_count": null,
      "outputs": [
        {
          "output_type": "display_data",
          "data": {
            "image/png": "[encoded data removed]",
            "text/plain": [
              "<Figure size 720x720 with 9 Axes>"
            ]
          },
          "metadata": {
            "tags": [],
            "needs_background": "light"
          }
        }
      ]
    },
    {
      "cell_type": "markdown",
      "metadata": {
        "id": "X1--YZRebTFd"
      },
      "source": [
        "Как видно из графиков, разные признаки очень сильно отличаются друг от друга по модулю значений (обратите внимание на диапазоны значений осей x и y). В случае обычной регрессии это никак не влияет на качество обучаемой модели, т.к. у меньших по модулю признаков будут большие веса, но при использовании регуляризации, которая штрафует модель за большие веса, регрессия, как правило, начинает работать хуже.\n",
        "\n",
        "В таких случаях всегда рекомендуется делать стандартизацию (масштабирование) признаков, для того чтобы они меньше отличались друг друга по модулю, но при этом не нарушались никакие другие свойства признакового пространства. При этом даже если итоговое качество модели на тесте уменьшается, это повышает её интерпретабельность, потому что новые веса имеют смысл \"значимости\" данного признака для итоговой классификации.\n",
        "\n",
        "Стандартизация осуществляется посредством вычета из каждого признака среднего значения и нормировки на выборочное стандартное отклонение:\n",
        "\n",
        "$$ x^{scaled}_{id} = \\dfrac{x_{id} - \\mu_d}{\\sigma_d}, \\quad \\mu_d = \\frac{1}{N} \\sum_{i=1}^l x_{id}, \\quad \\sigma_d = \\sqrt{\\frac{1}{N-1} \\sum_{i=1}^l (x_{id} - \\mu_d)^2} $$"
      ]
    },
    {
      "cell_type": "markdown",
      "metadata": {
        "id": "PTQUmdRobTFd"
      },
      "source": [
        "## Задание 1.5. Масштабирование вещественных признаков.\n",
        "\n",
        "1. По аналогии с вызовом one-hot encoder примените масштабирование вещественных признаков для обучающих и тестовых выборок X_train_real_zeros и X_test_real_zeros, используя класс \n",
        "\n",
        "        StandardScaler\n",
        "   \n",
        "   и методы \n",
        "\n",
        "        StandardScaler.fit_transform(...)\n",
        "        StandardScaler.transform(...)\n",
        "2. Сохраните ответ в переменные X_train_real_scaled и X_test_real_scaled соответственно"
      ]
    },
    {
      "cell_type": "code",
      "metadata": {
        "id": "FmqCummJbTFe"
      },
      "source": [
        "from sklearn.preprocessing import StandardScaler\n",
        "\n",
        "# place your code here"
      ],
      "execution_count": null,
      "outputs": []
    },
    {
      "cell_type": "code",
      "metadata": {
        "id": "KVypqlgeQsne"
      },
      "source": [
        "scaler = StandardScaler()\n",
        "X_train_real_scaled = scaler.fit_transform(X_train_real_zeros)\n",
        "X_test_real_scaled = scaler.fit_transform(X_test_real_zeros)"
      ],
      "execution_count": null,
      "outputs": []
    },
    {
      "cell_type": "markdown",
      "metadata": {
        "id": "GLEyE8febTFg"
      },
      "source": [
        "## Сравнение признаковых пространств."
      ]
    },
    {
      "cell_type": "markdown",
      "metadata": {
        "id": "fsVc_bb0bTFh"
      },
      "source": [
        "Построим такие же графики для преобразованных данных:"
      ]
    },
    {
      "cell_type": "code",
      "metadata": {
        "id": "fw30QOFQbTFh",
        "colab": {
          "base_uri": "https://localhost:8080/"
        },
        "outputId": "8dffad23-90d9-43d9-e7b0-e6722045dfd5"
      },
      "source": [
        "data_numeric_scaled = pd.DataFrame(X_train_real_scaled, columns=numeric_cols)\n",
        "list_cols = ['Number.of.Successful.Grant.1', 'SEO.Percentage.2', 'Year.of.Birth.1']\n",
        "scatter_matrix(data_numeric_scaled[list_cols], alpha=0.5, figsize=(10, 10))\n",
        "plt.show()"
      ],
      "execution_count": null,
      "outputs": [
        {
          "output_type": "display_data",
          "data": {
            "image/png": "[encoded data removed]",
            "text/plain": [
              "<Figure size 720x720 with 9 Axes>"
            ]
          },
          "metadata": {
            "tags": [],
            "needs_background": "light"
          }
        }
      ]
    },
    {
      "cell_type": "markdown",
      "metadata": {
        "id": "yA-fA03CbTFk"
      },
      "source": [
        "Как видно из графиков, мы не поменяли свойства признакового пространства: гистограммы распределений значений признаков, как и их scatter-plots, выглядят так же, как и до нормировки, но при этом все значения теперь находятся примерно в одном диапазоне, тем самым повышая интерпретабельность результатов, а также лучше сочетаясь с идеологией регуляризации."
      ]
    },
    {
      "cell_type": "markdown",
      "metadata": {
        "id": "H6ZatXF8bTFk"
      },
      "source": [
        "## Задание 2. Сравнение качества классификации до и после масштабирования вещественных признаков.\n",
        "1. Обучите ещё раз регрессию и гиперпараметры на новых признаках, объединив их с закодированными категориальными.\n",
        "2. Проверьте, был ли найден оптимум accuracy по гиперпараметрам во время кроссвалидации.\n",
        "3. Получите значение ROC AUC на тестовой выборке, сравните с лучшим результатом, полученными ранее.\n",
        "4. Запишите полученный ответ в файл при помощи функции write_answer_2."
      ]
    },
    {
      "cell_type": "code",
      "metadata": {
        "id": "darsUG7ybTFl"
      },
      "source": [
        "def write_answer_2(auc):\n",
        "    with open(\"preprocessing_lr_answer2.txt\", \"w\") as fout:\n",
        "        fout.write(str(auc))\n",
        "        \n",
        "# place your code here"
      ],
      "execution_count": null,
      "outputs": []
    },
    {
      "cell_type": "code",
      "metadata": {
        "id": "7p01_EJfSuSC"
      },
      "source": [
        "scaled_X_train_zeros = np.hstack((X_train_real_scaled,  X_train_cat_oh))\n",
        "scaled_X_test_zeros = np.hstack((X_test_real_scaled,  X_test_cat_oh))"
      ],
      "execution_count": null,
      "outputs": []
    },
    {
      "cell_type": "code",
      "metadata": {
        "id": "wrS-InZ-Uudw",
        "colab": {
          "base_uri": "https://localhost:8080/"
        },
        "outputId": "05fd479a-96e6-4e28-bf0b-8f9e48972cd2"
      },
      "source": [
        "scaled_grid_cv_zeros = GridSearchCV(estimator, param_grid, cv = 3)\n",
        "scaled_grid_cv_zeros.fit(scaled_X_train_zeros, y_train)\n",
        "print(scaled_grid_cv_zeros.best_params_)\n",
        "print(scaled_grid_cv_zeros.best_estimator_)"
      ],
      "execution_count": null,
      "outputs": [
        {
          "output_type": "stream",
          "text": [
            "{'C': 0.05}\n",
            "LogisticRegression(C=0.05, class_weight=None, dual=False, fit_intercept=True,\n",
            "                   intercept_scaling=1, l1_ratio=None, max_iter=100,\n",
            "                   multi_class='auto', n_jobs=None, penalty='l2',\n",
            "                   random_state=None, solver='lbfgs', tol=0.0001, verbose=0,\n",
            "                   warm_start=False)\n"
          ],
          "name": "stdout"
        }
      ]
    },
    {
      "cell_type": "code",
      "metadata": {
        "id": "42C2Ijn0VO72",
        "colab": {
          "base_uri": "https://localhost:8080/"
        },
        "outputId": "c682f1cd-e00b-4d33-9be9-1301b2b7cf39"
      },
      "source": [
        "plot_scores(scaled_grid_cv_zeros)"
      ],
      "execution_count": null,
      "outputs": [
        {
          "output_type": "display_data",
          "data": {
            "image/png": "[encoded data removed]",
            "text/plain": [
              "<Figure size 432x288 with 1 Axes>"
            ]
          },
          "metadata": {
            "tags": [],
            "needs_background": "light"
          }
        }
      ]
    },
    {
      "cell_type": "code",
      "metadata": {
        "id": "Cx8rDgElVUDd",
        "colab": {
          "base_uri": "https://localhost:8080/"
        },
        "outputId": "1e343b94-308a-4b2b-f1d3-5253650607b2"
      },
      "source": [
        "scaled_predict_proba_zeros = scaled_grid_cv_zeros.predict_proba(scaled_X_test_zeros)[:, 1]\n",
        "scaled_AUC_zeros = roc_auc_score(y_test, scaled_predict_proba_zeros)\n",
        "scaled_AUC_zeros"
      ],
      "execution_count": null,
      "outputs": [
        {
          "output_type": "execute_result",
          "data": {
            "text/plain": [
              "0.8844343445717445"
            ]
          },
          "metadata": {
            "tags": []
          },
          "execution_count": 31
        }
      ]
    },
    {
      "cell_type": "markdown",
      "metadata": {
        "id": "Uy2WO-UgbTFn"
      },
      "source": [
        "## Балансировка классов."
      ]
    },
    {
      "cell_type": "markdown",
      "metadata": {
        "id": "xU6b1i0BbTFn"
      },
      "source": [
        "Алгоритмы классификации могут быть очень чувствительны к несбалансированным классам. Рассмотрим пример с выборками, сэмплированными из двух гауссиан. Их мат. ожидания и матрицы ковариации заданы так, что истинная разделяющая поверхность должна проходить параллельно оси x. Поместим в обучающую выборку 20 объектов, сэмплированных из 1-й гауссианы, и 10 объектов из 2-й. После этого обучим на них линейную регрессию, и построим на графиках объекты и области классификации."
      ]
    },
    {
      "cell_type": "code",
      "metadata": {
        "id": "e4k1r25AbTFo",
        "colab": {
          "base_uri": "https://localhost:8080/"
        },
        "outputId": "c3c103a3-2a91-4b35-d641-7c57d83d5504"
      },
      "source": [
        "np.random.seed(0)\n",
        "\"\"\"Сэмплируем данные из первой гауссианы\"\"\"\n",
        "data_0 = np.random.multivariate_normal([0,0], [[0.5,0],[0,0.5]], size=40)\n",
        "\"\"\"И из второй\"\"\"\n",
        "data_1 = np.random.multivariate_normal([0,1], [[0.5,0],[0,0.5]], size=40)\n",
        "\"\"\"На обучение берём 20 объектов из первого класса и 10 из второго\"\"\"\n",
        "example_data_train = np.vstack([data_0[:20,:], data_1[:10,:]])\n",
        "example_labels_train = np.concatenate([np.zeros((20)), np.ones((10))])\n",
        "\"\"\"На тест - 20 из первого и 30 из второго\"\"\"\n",
        "example_data_test = np.vstack([data_0[20:,:], data_1[10:,:]])\n",
        "example_labels_test = np.concatenate([np.zeros((20)), np.ones((30))])\n",
        "\"\"\"Задаём координатную сетку, на которой будем вычислять область классификации\"\"\"\n",
        "xx, yy = np.meshgrid(np.arange(-3, 3, 0.02), np.arange(-3, 3, 0.02))\n",
        "\"\"\"Обучаем регрессию без балансировки по классам\"\"\"\n",
        "optimizer = GridSearchCV(LogisticRegression(), param_grid, cv=cv, n_jobs=-1)\n",
        "optimizer.fit(example_data_train, example_labels_train)\n",
        "\"\"\"Строим предсказания регрессии для сетки\"\"\"\n",
        "Z = optimizer.predict(np.c_[xx.ravel(), yy.ravel()]).reshape(xx.shape)\n",
        "plt.pcolormesh(xx, yy, Z, cmap=plt.cm.Pastel2)\n",
        "plt.scatter(data_0[:,0], data_0[:,1], color='red')\n",
        "plt.scatter(data_1[:,0], data_1[:,1], color='blue')\n",
        "\"\"\"Считаем AUC\"\"\"\n",
        "auc_wo_class_weights = roc_auc_score(example_labels_test, optimizer.predict_proba(example_data_test)[:,1])\n",
        "plt.title('Without class weights')\n",
        "plt.show()\n",
        "print('AUC: %f'%auc_wo_class_weights)\n",
        "\"\"\"Для второй регрессии в LogisticRegression передаём параметр class_weight='balanced'\"\"\"\n",
        "optimizer = GridSearchCV(LogisticRegression(class_weight='balanced'), param_grid, cv=cv, n_jobs=-1)\n",
        "optimizer.fit(example_data_train, example_labels_train)\n",
        "Z = optimizer.predict(np.c_[xx.ravel(), yy.ravel()]).reshape(xx.shape)\n",
        "plt.pcolormesh(xx, yy, Z, cmap=plt.cm.Pastel2)\n",
        "plt.scatter(data_0[:,0], data_0[:,1], color='red')\n",
        "plt.scatter(data_1[:,0], data_1[:,1], color='blue')\n",
        "auc_w_class_weights = roc_auc_score(example_labels_test, optimizer.predict_proba(example_data_test)[:,1])\n",
        "plt.title('With class weights')\n",
        "plt.show()\n",
        "print('AUC: %f'%auc_w_class_weights)"
      ],
      "execution_count": null,
      "outputs": [
        {
          "output_type": "display_data",
          "data": {
            "image/png": "[encoded data removed]",
            "text/plain": [
              "<Figure size 432x288 with 1 Axes>"
            ]
          },
          "metadata": {
            "tags": [],
            "needs_background": "light"
          }
        },
        {
          "output_type": "stream",
          "text": [
            "AUC: 0.911667\n"
          ],
          "name": "stdout"
        },
        {
          "output_type": "display_data",
          "data": {
            "image/png": "[encoded data removed]",
            "text/plain": [
              "<Figure size 432x288 with 1 Axes>"
            ]
          },
          "metadata": {
            "tags": [],
            "needs_background": "light"
          }
        },
        {
          "output_type": "stream",
          "text": [
            "AUC: 0.906667\n"
          ],
          "name": "stdout"
        }
      ]
    },
    {
      "cell_type": "markdown",
      "metadata": {
        "id": "qRosSyvTbTFq"
      },
      "source": [
        "Как видно, во втором случае классификатор находит разделяющую поверхность, которая ближе к истинной, т.е. меньше переобучается. Поэтому на сбалансированность классов в обучающей выборке всегда следует обращать внимание.\n",
        "\n",
        "Посмотрим, сбалансированны ли классы в нашей обучающей выборке:"
      ]
    },
    {
      "cell_type": "code",
      "metadata": {
        "id": "36rDgq8GbTFr",
        "colab": {
          "base_uri": "https://localhost:8080/"
        },
        "outputId": "1f714bdb-b459-4c2d-9bec-db0ec0ebafd6"
      },
      "source": [
        "print(np.sum(y_train==0))\n",
        "print(np.sum(y_train==1))"
      ],
      "execution_count": null,
      "outputs": [
        {
          "output_type": "stream",
          "text": [
            "2316\n",
            "1884\n"
          ],
          "name": "stdout"
        }
      ]
    },
    {
      "cell_type": "markdown",
      "metadata": {
        "id": "NBlFDG8ZbTFt"
      },
      "source": [
        "Видно, что нет.\n",
        "\n",
        "Исправить ситуацию можно разными способами, мы рассмотрим два:\n",
        "- давать объектам миноритарного класса больший вес при обучении классификатора (рассмотрен в примере выше)\n",
        "- досэмплировать объекты миноритарного класса, пока число объектов в обоих классах не сравняется"
      ]
    },
    {
      "cell_type": "markdown",
      "metadata": {
        "id": "euxKW-2kbTFu"
      },
      "source": [
        "## Задание 3. Балансировка классов.\n",
        "1. Обучите логистическую регрессию и гиперпараметры с балансировкой классов, используя веса (параметр class_weight='balanced' регрессии) на отмасштабированных выборках, полученных в предыдущем задании. Убедитесь, что вы нашли максимум accuracy по гиперпараметрам.\n",
        "2. Получите метрику ROC AUC на тестовой выборке.\n",
        "3. Сбалансируйте выборку, досэмплировав в неё объекты из меньшего класса. Для получения индексов объектов, которые требуется добавить в обучающую выборку, используйте следующую комбинацию вызовов функций:\n",
        "        np.random.seed(0)\n",
        "        indices_to_add = np.random.randint(...)\n",
        "        X_train_to_add = X_train[y_train.as_matrix() == 1,:][indices_to_add,:]\n",
        "   После этого добавьте эти объекты в начало или конец обучающей выборки. Дополните соответствующим      образом вектор ответов.\n",
        "4. Получите метрику ROC AUC на тестовой выборке, сравните с предыдущим результатом.\n",
        "5. Внесите ответы в выходной файл при помощи функции write_asnwer_3, передав в неё сначала ROC AUC для балансировки весами, а потом балансировки выборки вручную."
      ]
    },
    {
      "cell_type": "code",
      "metadata": {
        "id": "ZiaE-op_YfTJ",
        "colab": {
          "base_uri": "https://localhost:8080/",
          "height": 126
        },
        "outputId": "0daccbb2-7282-4032-d438-c411c820a066"
      },
      "source": [
        "# Подход №1. Давать объектам миноритарного класса больший вес при обучении классификатора\n",
        "balanced_estimator = LogisticRegression(class_weight='balanced')\n",
        "balanced_grid_cv = GridSearchCV(balanced_estimator, param_grid, cv = 3)\n",
        "balanced_grid_cv.fit(scaled_X_train_zeros, y_train)\n",
        "print(balanced_grid_cv.best_params_)\n",
        "print(balanced_grid_cv.best_estimator_)"
      ],
      "execution_count": null,
      "outputs": [
        {
          "output_type": "stream",
          "text": [
            "{'C': 0.1}\n",
            "LogisticRegression(C=0.1, class_weight='balanced', dual=False,\n",
            "                   fit_intercept=True, intercept_scaling=1, l1_ratio=None,\n",
            "                   max_iter=100, multi_class='auto', n_jobs=None, penalty='l2',\n",
            "                   random_state=None, solver='lbfgs', tol=0.0001, verbose=0,\n",
            "                   warm_start=False)\n"
          ],
          "name": "stdout"
        }
      ]
    },
    {
      "cell_type": "code",
      "metadata": {
        "id": "CzH91QgQa_YD",
        "colab": {
          "base_uri": "https://localhost:8080/",
          "height": 269
        },
        "outputId": "a0f390f2-1d2b-40df-a1e3-11d11dfcce4a"
      },
      "source": [
        "plot_scores(balanced_grid_cv)"
      ],
      "execution_count": null,
      "outputs": [
        {
          "output_type": "display_data",
          "data": {
            "image/png": "[encoded data removed]",
            "text/plain": [
              "<Figure size 432x288 with 1 Axes>"
            ]
          },
          "metadata": {
            "tags": [],
            "needs_background": "light"
          }
        }
      ]
    },
    {
      "cell_type": "code",
      "metadata": {
        "id": "VsNyskoubW3z",
        "colab": {
          "base_uri": "https://localhost:8080/",
          "height": 35
        },
        "outputId": "551c6d40-ca1b-4809-fcfa-c6dd8149f4dd"
      },
      "source": [
        "balanced_predict_proba_zeros = balanced_grid_cv.predict_proba(scaled_X_test_zeros)[:, 1]\n",
        "balanced_AUC_zeros = roc_auc_score(y_test, balanced_predict_proba_zeros)\n",
        "balanced_AUC_zeros"
      ],
      "execution_count": null,
      "outputs": [
        {
          "output_type": "execute_result",
          "data": {
            "text/plain": [
              "0.8867507433635545"
            ]
          },
          "metadata": {
            "tags": []
          },
          "execution_count": 37
        }
      ]
    },
    {
      "cell_type": "code",
      "metadata": {
        "id": "iHNWVplrb1H6"
      },
      "source": [
        "# Подход №2. Ручное балансирование классов. досэмплирование выборки объектами из меньшего класса.\n",
        "np.random.seed(0)\n",
        "number_to_add = np.sum(y_train == 0) - np.sum(y_train == 1) # 0 в выборке больше чем 1 на 432 числа. Определим сколько значений не хватает 0, что бы 0 было столько же сколько 1\n",
        "indices_to_add = np.random.randint(np.sum(y_train == 1), size = number_to_add) # создадим массив длиной 432, в котором будут рандомные числа не превышающие количества чисел 1\n",
        "X_train_to_add = scaled_X_train_zeros[y_train.to_numpy() == 1,:][indices_to_add,:] # Создадим матрицу которую необходимо добавить к обучающей выборке "
      ],
      "execution_count": null,
      "outputs": []
    },
    {
      "cell_type": "code",
      "metadata": {
        "id": "uE_QkoKUE_0p"
      },
      "source": [
        "X_train_sample = np.vstack((scaled_X_train_zeros, X_train_to_add))\n",
        "y_train_sample = np.concatenate((y_train, np.ones(number_to_add)))"
      ],
      "execution_count": null,
      "outputs": []
    },
    {
      "cell_type": "code",
      "metadata": {
        "id": "lB_YqCpSHJZo",
        "colab": {
          "base_uri": "https://localhost:8080/",
          "height": 35
        },
        "outputId": "efe21acb-5081-4fd4-f39f-bca945699409"
      },
      "source": [
        "X_train_sample.shape, y_train_sample.shape"
      ],
      "execution_count": null,
      "outputs": [
        {
          "output_type": "execute_result",
          "data": {
            "text/plain": [
              "((4632, 5606), (4632,))"
            ]
          },
          "metadata": {
            "tags": []
          },
          "execution_count": 40
        }
      ]
    },
    {
      "cell_type": "code",
      "metadata": {
        "id": "PaBuMD4qHrLN",
        "colab": {
          "base_uri": "https://localhost:8080/",
          "height": 126
        },
        "outputId": "89d8c0b2-a4f3-4df0-bde9-00142ecb4e43"
      },
      "source": [
        "balanced_estimator_two = LogisticRegression()\n",
        "balanced_grid_cv_two = GridSearchCV(balanced_estimator_two, param_grid, cv = 3)\n",
        "balanced_grid_cv_two.fit(X_train_sample, y_train_sample)\n",
        "print(balanced_grid_cv_two.best_params_)\n",
        "print(balanced_grid_cv_two.best_estimator_)"
      ],
      "execution_count": null,
      "outputs": [
        {
          "output_type": "stream",
          "text": [
            "{'C': 1}\n",
            "LogisticRegression(C=1, class_weight=None, dual=False, fit_intercept=True,\n",
            "                   intercept_scaling=1, l1_ratio=None, max_iter=100,\n",
            "                   multi_class='auto', n_jobs=None, penalty='l2',\n",
            "                   random_state=None, solver='lbfgs', tol=0.0001, verbose=0,\n",
            "                   warm_start=False)\n"
          ],
          "name": "stdout"
        }
      ]
    },
    {
      "cell_type": "code",
      "metadata": {
        "id": "RGXWXP15JLvm",
        "colab": {
          "base_uri": "https://localhost:8080/",
          "height": 269
        },
        "outputId": "73c4f491-ac31-4bd2-c76e-b10f108eb19c"
      },
      "source": [
        "plot_scores(balanced_grid_cv_two)"
      ],
      "execution_count": null,
      "outputs": [
        {
          "output_type": "display_data",
          "data": {
            "image/png": "[encoded data removed]",
            "text/plain": [
              "<Figure size 432x288 with 1 Axes>"
            ]
          },
          "metadata": {
            "tags": [],
            "needs_background": "light"
          }
        }
      ]
    },
    {
      "cell_type": "code",
      "metadata": {
        "id": "LXJZ1Fh_JQmC",
        "colab": {
          "base_uri": "https://localhost:8080/",
          "height": 35
        },
        "outputId": "80864147-5a0d-465d-e440-0d5a4eeb1ea5"
      },
      "source": [
        "balanced_predict_proba_two = balanced_grid_cv_two.predict_proba(scaled_X_test_zeros)[:, 1]\n",
        "balanced_AUC_two = roc_auc_score(y_test, balanced_predict_proba_two)\n",
        "balanced_AUC_two"
      ],
      "execution_count": null,
      "outputs": [
        {
          "output_type": "execute_result",
          "data": {
            "text/plain": [
              "0.8833454391567912"
            ]
          },
          "metadata": {
            "tags": []
          },
          "execution_count": 43
        }
      ]
    },
    {
      "cell_type": "code",
      "metadata": {
        "id": "yiiVC_c-bTFv"
      },
      "source": [
        "def write_answer_3(auc_1, auc_2):\n",
        "    auc = (auc_1 + auc_2) / 2\n",
        "    with open(\"preprocessing_lr_answer3.txt\", \"w\") as fout:\n",
        "        fout.write(str(auc))\n",
        "        \n",
        "# place your code here"
      ],
      "execution_count": null,
      "outputs": []
    },
    {
      "cell_type": "markdown",
      "metadata": {
        "id": "kuSNGYhVbTFx"
      },
      "source": [
        "## Стратификация выборок."
      ]
    },
    {
      "cell_type": "markdown",
      "metadata": {
        "id": "o7T5DOkobTFy"
      },
      "source": [
        "Рассмотрим ещё раз пример с выборками из нормальных распределений. Посмотрим ещё раз на качество классификаторов, получаемое на тестовых выборках:"
      ]
    },
    {
      "cell_type": "code",
      "metadata": {
        "id": "7tDHvQxsbTFy",
        "colab": {
          "base_uri": "https://localhost:8080/",
          "height": 54
        },
        "outputId": "3e50264d-58ea-441b-c7e5-a75980eea768"
      },
      "source": [
        "print('AUC ROC for classifier without weighted classes', auc_wo_class_weights)\n",
        "print('AUC ROC for classifier with weighted classes: ', auc_w_class_weights)"
      ],
      "execution_count": null,
      "outputs": [
        {
          "output_type": "stream",
          "text": [
            "AUC ROC for classifier without weighted classes 0.9116666666666666\n",
            "AUC ROC for classifier with weighted classes:  0.9066666666666666\n"
          ],
          "name": "stdout"
        }
      ]
    },
    {
      "cell_type": "markdown",
      "metadata": {
        "id": "Ho-vi9OxbTF1"
      },
      "source": [
        "Насколько эти цифры реально отражают качество работы алгоритма, если учесть, что тестовая выборка так же несбалансирована, как обучающая? При этом мы уже знаем, что алгоритм логистический регрессии чувствителен к балансировке классов в обучающей выборке, т.е. в данном случае на тесте он будет давать заведомо заниженные результаты. Метрика классификатора на тесте имела бы гораздо больший смысл, если бы объекты были разделы в выборках поровну: по 20 из каждого класса на обучени и на тесте. Переформируем выборки и подсчитаем новые ошибки:"
      ]
    },
    {
      "cell_type": "code",
      "metadata": {
        "id": "kqi73Tv3bTF1",
        "colab": {
          "base_uri": "https://localhost:8080/",
          "height": 300
        },
        "outputId": "2c49b627-b89c-425d-f7cb-7c064027189f"
      },
      "source": [
        "\"\"\"Разделим данные по классам поровну между обучающей и тестовой выборками\"\"\"\n",
        "example_data_train = np.vstack([data_0[:20,:], data_1[:20,:]])\n",
        "example_labels_train = np.concatenate([np.zeros((20)), np.ones((20))])\n",
        "example_data_test = np.vstack([data_0[20:,:], data_1[20:,:]])\n",
        "example_labels_test = np.concatenate([np.zeros((20)), np.ones((20))])\n",
        "\"\"\"Обучим классификатор\"\"\"\n",
        "optimizer = GridSearchCV(LogisticRegression(class_weight='balanced'), param_grid, cv=cv, n_jobs=-1)\n",
        "optimizer.fit(example_data_train, example_labels_train)\n",
        "Z = optimizer.predict(np.c_[xx.ravel(), yy.ravel()]).reshape(xx.shape)\n",
        "plt.pcolormesh(xx, yy, Z, cmap=plt.cm.Pastel2)\n",
        "plt.scatter(data_0[:,0], data_0[:,1], color='red')\n",
        "plt.scatter(data_1[:,0], data_1[:,1], color='blue')\n",
        "auc_stratified = roc_auc_score(example_labels_test, optimizer.predict_proba(example_data_test)[:,1])\n",
        "plt.title('With class weights')\n",
        "plt.show()\n",
        "print('AUC ROC for stratified samples: ', auc_stratified)"
      ],
      "execution_count": null,
      "outputs": [
        {
          "output_type": "display_data",
          "data": {
            "image/png": "[encoded data removed]",
            "text/plain": [
              "<Figure size 432x288 with 1 Axes>"
            ]
          },
          "metadata": {
            "tags": [],
            "needs_background": "light"
          }
        },
        {
          "output_type": "stream",
          "text": [
            "AUC ROC for stratified samples:  0.9125\n"
          ],
          "name": "stdout"
        }
      ]
    },
    {
      "cell_type": "markdown",
      "metadata": {
        "id": "-zmexzlwbTF3"
      },
      "source": [
        "Как видно, после данной процедуры ответ классификатора изменился незначительно, а вот качество увеличилось. При этом, в зависимости от того, как вы разбили изначально данные на обучение и тест, после сбалансированного разделения выборок итоговая метрика на тесте может как увеличиться, так и уменьшиться, но доверять ей можно значительно больше, т.к. она построена с учётом специфики работы классификатора. Данный подход является частным случаем т.н. метода стратификации."
      ]
    },
    {
      "cell_type": "markdown",
      "metadata": {
        "id": "8jDMAfH2bTF4"
      },
      "source": [
        "## Задание 4. Стратификация выборки.\n",
        "\n",
        "1. По аналогии с тем, как это было сделано в начале задания, разбейте выборки X_real_zeros и X_cat_oh на обучение и тест, передавая в функцию \n",
        "        train_test_split(...)\n",
        "   дополнительно параметр \n",
        "       stratify=y\n",
        "   Также обязательно передайте в функцию переменную random_state=0.\n",
        "2. Выполните масштабирование новых вещественных выборок, обучите классификатор и его гиперпараметры при помощи метода кросс-валидации, делая поправку на несбалансированные классы при помощи весов. Убедитесь в том, что нашли оптимум accuracy по гиперпараметрам.\n",
        "3. Оцените качество классификатора метрике AUC ROC на тестовой выборке.\n",
        "4. Полученный ответ передайте функции write_answer_4"
      ]
    },
    {
      "cell_type": "code",
      "metadata": {
        "id": "CRKGatHQTChY"
      },
      "source": [
        "# Новое разбиение на train и test выборки с параметром stratify \n",
        "(stratify_X_train_real_zeros, \n",
        " stratify_X_test_real_zeros) = train_test_split(X_real_zeros, \n",
        "                                     test_size=0.3, \n",
        "                                     random_state=0, stratify=y)\n",
        " \n",
        "(stratify_X_train_cat_oh,\n",
        " stratify_X_test_cat_oh) = train_test_split(X_cat_oh, \n",
        "                                   test_size=0.3, \n",
        "                                   random_state=0, stratify=y)\n",
        " \n",
        "(stratify_y_train, stratify_y_test) = train_test_split(y, \n",
        "                                     test_size=0.3, \n",
        "                                     random_state=0, stratify=y)"
      ],
      "execution_count": null,
      "outputs": []
    },
    {
      "cell_type": "code",
      "metadata": {
        "id": "PsSEAqImU8ek"
      },
      "source": [
        "# Масштабирование новых признаков\n",
        "scaler_two = StandardScaler()\n",
        "X_train_real_scaled_stratify = scaler_two.fit_transform(stratify_X_train_real_zeros)\n",
        "X_test_real_scaled_stratify = scaler_two.fit_transform(stratify_X_test_real_zeros)"
      ],
      "execution_count": null,
      "outputs": []
    },
    {
      "cell_type": "code",
      "metadata": {
        "id": "J0aRgFylUlR4"
      },
      "source": [
        "# Складываем вещественные и категориальные признаки\n",
        "X_train_zeros_stratify = np.hstack((X_train_real_scaled_stratify,  stratify_X_train_cat_oh))\n",
        "X_test_zeros_stratify = np.hstack((X_test_real_scaled_stratify,  stratify_X_test_cat_oh))"
      ],
      "execution_count": null,
      "outputs": []
    },
    {
      "cell_type": "code",
      "metadata": {
        "id": "PutXPY88UlR8"
      },
      "source": [
        "# Создаем классификатор с поправкой на баланс признаков медходом №1\n",
        "estimator_three = LogisticRegression(class_weight='balanced')"
      ],
      "execution_count": null,
      "outputs": []
    },
    {
      "cell_type": "code",
      "metadata": {
        "id": "jDpX2KzTUlR_"
      },
      "source": [
        "# Обучаем модель\n",
        "grid_cv_three = GridSearchCV(estimator_three, param_grid, cv = 3, n_jobs=-1)\n",
        "grid_cv_three.fit(X_train_zeros_stratify, stratify_y_train)\n",
        "print(grid_cv_three.best_params_)\n",
        "print(grid_cv_three.best_estimator_)"
      ],
      "execution_count": null,
      "outputs": []
    },
    {
      "cell_type": "code",
      "metadata": {
        "id": "5I_k8oJ4UlSF"
      },
      "source": [
        "plot_scores(grid_cv_three)\n"
      ],
      "execution_count": null,
      "outputs": []
    },
    {
      "cell_type": "code",
      "metadata": {
        "id": "AwHu0g96YFb5"
      },
      "source": [
        "# Находим площадь под ROC кривой\n",
        "predict_proba_three = grid_cv_three.predict_proba(X_test_zeros_stratify)[:, 1]\n",
        "AUC_three = roc_auc_score(stratify_y_test, predict_proba_three)\n",
        "AUC_three"
      ],
      "execution_count": null,
      "outputs": []
    },
    {
      "cell_type": "code",
      "metadata": {
        "id": "xq_KJyEzbTF4"
      },
      "source": [
        "def write_answer_4(auc):\n",
        "    with open(\"preprocessing_lr_answer4.txt\", \"w\") as fout:\n",
        "        fout.write(str(auc))\n",
        "        \n"
      ],
      "execution_count": null,
      "outputs": []
    },
    {
      "cell_type": "markdown",
      "metadata": {
        "id": "e1Z5Ut1KbTF7"
      },
      "source": [
        "Теперь вы разобрались с основными этапами предобработки данных для линейных классификаторов.\n",
        "Напомним основные этапы:\n",
        "- обработка пропущенных значений\n",
        "- обработка категориальных признаков\n",
        "- стратификация\n",
        "- балансировка классов\n",
        "- масштабирование\n",
        "\n",
        "Данные действия с данными рекомендуется проводить всякий раз, когда вы планируете использовать линейные методы. Рекомендация по выполнению многих из этих пунктов справедлива и для других методов машинного обучения."
      ]
    },
    {
      "cell_type": "markdown",
      "metadata": {
        "id": "TPIw2hAQbTF8"
      },
      "source": [
        "## Трансформация признаков.\n",
        "\n",
        "Теперь рассмотрим способы преобразования признаков. Существует достаточно много различных способов трансформации признаков, которые позволяют при помощи линейных методов получать более сложные разделяющие поверхности. Самым базовым является полиномиальное преобразование признаков. Его идея заключается в том, что помимо самих признаков вы дополнительно включаете набор все полиномы степени $p$, которые можно из них построить. Для случая $p=2$ преобразование выглядит следующим образом:\n",
        "\n",
        "$$ \\phi(x_i) = [x_{i,1}^2, ..., x_{i,D}^2, x_{i,1}x_{i,2}, ..., x_{i,D} x_{i,D-1}, x_{i,1}, ..., x_{i,D}, 1] $$\n",
        "\n",
        "Рассмотрим принцип работы данных признаков на данных, сэмплированных их гауссиан:"
      ]
    },
    {
      "cell_type": "code",
      "metadata": {
        "id": "pKAnGHeCbTF8"
      },
      "source": [
        "from sklearn.preprocessing import PolynomialFeatures\n",
        "\n",
        "\"\"\"Инициализируем класс, который выполняет преобразование\"\"\"\n",
        "transform = PolynomialFeatures(2)\n",
        "\"\"\"Обучаем преобразование на обучающей выборке, применяем его к тестовой\"\"\"\n",
        "example_data_train_poly = transform.fit_transform(example_data_train)\n",
        "example_data_test_poly = transform.transform(example_data_test)\n",
        "\"\"\"Обращаем внимание на параметр fit_intercept=False\"\"\"\n",
        "optimizer = GridSearchCV(LogisticRegression(class_weight='balanced', fit_intercept=False), param_grid, cv=cv, n_jobs=-1)\n",
        "optimizer.fit(example_data_train_poly, example_labels_train)\n",
        "Z = optimizer.predict(transform.transform(np.c_[xx.ravel(), yy.ravel()])).reshape(xx.shape)\n",
        "plt.pcolormesh(xx, yy, Z, cmap=plt.cm.Pastel2)\n",
        "plt.scatter(data_0[:,0], data_0[:,1], color='red')\n",
        "plt.scatter(data_1[:,0], data_1[:,1], color='blue')\n",
        "plt.title('With class weights')\n",
        "plt.show()"
      ],
      "execution_count": null,
      "outputs": []
    },
    {
      "cell_type": "markdown",
      "metadata": {
        "id": "DB7hMkB-bTF_"
      },
      "source": [
        "Видно, что данный метод преобразования данных уже позволяет строить нелинейные разделяющие поверхности, которые могут более тонко подстраиваться под данные и находить более сложные зависимости. Число признаков в новой модели:"
      ]
    },
    {
      "cell_type": "code",
      "metadata": {
        "id": "Hj7NhhjwbTF_"
      },
      "source": [
        "print(example_data_train_poly.shape)"
      ],
      "execution_count": null,
      "outputs": []
    },
    {
      "cell_type": "markdown",
      "metadata": {
        "id": "PG3J7BiNbTGB"
      },
      "source": [
        "Но при этом одновременно данный метод способствует более сильной способности модели к переобучению из-за быстрого роста числа признаком с увеличением степени $p$. Рассмотрим пример с $p=11$:"
      ]
    },
    {
      "cell_type": "code",
      "metadata": {
        "id": "Bn5D51ufbTGC"
      },
      "source": [
        "transform = PolynomialFeatures(11)\n",
        "example_data_train_poly = transform.fit_transform(example_data_train)\n",
        "example_data_test_poly = transform.transform(example_data_test)\n",
        "optimizer = GridSearchCV(LogisticRegression(class_weight='balanced', fit_intercept=False), param_grid, cv=cv, n_jobs=-1)\n",
        "optimizer.fit(example_data_train_poly, example_labels_train)\n",
        "Z = optimizer.predict(transform.transform(np.c_[xx.ravel(), yy.ravel()])).reshape(xx.shape)\n",
        "plt.pcolormesh(xx, yy, Z, cmap=plt.cm.Pastel2)\n",
        "plt.scatter(data_0[:,0], data_0[:,1], color='red')\n",
        "plt.scatter(data_1[:,0], data_1[:,1], color='blue')\n",
        "plt.title('Corrected class weights')\n",
        "plt.show()"
      ],
      "execution_count": null,
      "outputs": []
    },
    {
      "cell_type": "markdown",
      "metadata": {
        "id": "WdQyJasCbTGE"
      },
      "source": [
        "Количество признаков в данной модели:"
      ]
    },
    {
      "cell_type": "code",
      "metadata": {
        "id": "MJPM23-lbTGF"
      },
      "source": [
        "print(example_data_train_poly.shape)"
      ],
      "execution_count": null,
      "outputs": []
    },
    {
      "cell_type": "markdown",
      "metadata": {
        "id": "4MHE3oombTGI"
      },
      "source": [
        "## Задание 5. Трансформация вещественных признаков.\n",
        "\n",
        "1. Реализуйте по аналогии с примером преобразование вещественных признаков модели при помощи полиномиальных признаков степени 2\n",
        "2. Постройте логистическую регрессию на новых данных, одновременно подобрав оптимальные гиперпараметры. Обращаем внимание, что в преобразованных признаках уже присутствует столбец, все значения которого равны 1, поэтому обучать дополнительно значение $b$ не нужно, его функцию выполняет один из весов $w$. В связи с этим во избежание линейной зависимости в датасете, в вызов класса логистической регрессии требуется передавать параметр fit_intercept=False. Для обучения используйте стратифицированные выборки с балансировкой классов при помощи весов, преобразованные признаки требуется заново отмасштабировать.\n",
        "3. Получите AUC ROC на тесте и сравните данный результат с использованием обычных признаков.\n",
        "4. Передайте полученный ответ в функцию write_answer_5."
      ]
    },
    {
      "cell_type": "code",
      "metadata": {
        "id": "OV4Qqa5ibB0i"
      },
      "source": [
        "# Инициализируем класс, который выполняет преобразование. То есть полином будет до x**2\n",
        "transform = PolynomialFeatures(2)"
      ],
      "execution_count": null,
      "outputs": []
    },
    {
      "cell_type": "code",
      "metadata": {
        "id": "dTAS2uyPc0I_"
      },
      "source": [
        "# Обучаем преобразование на обучающей выборке, применяем его к тестовой\n",
        "X_train_real_poly = transform.fit_transform(stratify_X_train_real_zeros)\n",
        "X_test_real_poly = transform.fit_transform(stratify_X_test_real_zeros)"
      ],
      "execution_count": null,
      "outputs": []
    },
    {
      "cell_type": "code",
      "metadata": {
        "id": "Id7qPyYVfgLQ"
      },
      "source": [
        "# Масштабируем выборки\n",
        "scaler_poly = StandardScaler()\n",
        "X_train_real_poly_scaled = scaler_poly.fit_transform(X_train_real_poly)\n",
        "X_test_real_poly_scaled = scaler_poly.transform(X_test_real_poly)"
      ],
      "execution_count": null,
      "outputs": []
    },
    {
      "cell_type": "code",
      "metadata": {
        "id": "3uRWljATf3ay"
      },
      "source": [
        "# Складываем вещественные и категориальные признаки\n",
        "X_train_poly = np.hstack((X_train_real_poly_scaled,  stratify_X_train_cat_oh))\n",
        "X_test_poly = np.hstack((X_test_real_poly_scaled,  stratify_X_test_cat_oh))"
      ],
      "execution_count": null,
      "outputs": []
    },
    {
      "cell_type": "code",
      "metadata": {
        "id": "8FUxfabFgNno"
      },
      "source": [
        "# Создаем классификатор с поправкой на баланс признаков медходом №1\n",
        "estimator_poly = LogisticRegression(class_weight='balanced', fit_intercept=False)"
      ],
      "execution_count": null,
      "outputs": []
    },
    {
      "cell_type": "code",
      "metadata": {
        "id": "ogxapgmMeGGL"
      },
      "source": [
        "# Обучаем модель\n",
        "grid_cv_poly = GridSearchCV(estimator_poly, param_grid, cv=cv, n_jobs=-1)\n",
        "grid_cv_poly.fit(X_train_poly, stratify_y_train)\n",
        "print(grid_cv_poly.best_params_)\n",
        "print(grid_cv_poly.best_estimator_)"
      ],
      "execution_count": null,
      "outputs": []
    },
    {
      "cell_type": "code",
      "metadata": {
        "id": "8lywJtoeey-M"
      },
      "source": [
        "plot_scores(grid_cv_poly)"
      ],
      "execution_count": null,
      "outputs": []
    },
    {
      "cell_type": "code",
      "metadata": {
        "id": "DCNmn01BfDjy"
      },
      "source": [
        "# Находим площадь под ROC кривой\n",
        "predict_proba_poly = grid_cv_poly.predict_proba(X_test_poly)[:, 1]\n",
        "AUC_poly = roc_auc_score(stratify_y_test, predict_proba_poly)\n",
        "AUC_poly"
      ],
      "execution_count": null,
      "outputs": []
    },
    {
      "cell_type": "code",
      "metadata": {
        "id": "DpdUDZePbTGI"
      },
      "source": [
        "def write_answer_5(auc):\n",
        "    with open(\"preprocessing_lr_answer5.txt\", \"w\") as fout:\n",
        "        fout.write(str(auc))\n",
        "        \n",
        "# place your code here"
      ],
      "execution_count": null,
      "outputs": []
    },
    {
      "cell_type": "markdown",
      "metadata": {
        "id": "35uhfBWfbTGL"
      },
      "source": [
        "## Регрессия Lasso.\n",
        "К логистической регрессии также можно применить L1-регуляризацию (Lasso), вместо регуляризации L2, которая будет приводить к отбору признаков. Вам предлагается применить L1-регуляцию к исходным признакам и проинтерпретировать полученные результаты (применение отбора признаков к полиномиальным так же можно успешно применять, но в нём уже будет отсутствовать компонента интерпретации, т.к. смысловое значение оригинальных признаков известно, а полиномиальных - уже может быть достаточно нетривиально). Для вызова логистической регрессии с L1-регуляризацией достаточно передать параметр penalty='l1' в инициализацию класса."
      ]
    },
    {
      "cell_type": "markdown",
      "metadata": {
        "id": "6tfP7G8CbTGM"
      },
      "source": [
        "## Задание 6. Отбор признаков при помощи регрессии Lasso.\n",
        "1. Обучите регрессию Lasso на стратифицированных отмасштабированных выборках, используя балансировку классов при помощи весов. Для задания используем X_train_real_zeros.\n",
        "2. Получите ROC AUC регрессии, сравните его с предыдущими результатами.\n",
        "3. Найдите номера вещественных признаков, которые имеют нулевые веса в итоговой модели.\n",
        "4. Передайте их список функции write_answer_6."
      ]
    },
    {
      "cell_type": "code",
      "metadata": {
        "id": "gu73Xphqhzxi"
      },
      "source": [
        "# Масштабируем выборки\n",
        "scaler_lasso = StandardScaler()\n",
        "X_train_lasso = scaler_lasso.fit_transform(stratify_X_train_real_zeros)\n",
        "X_test_lasso = scaler_lasso.transform(stratify_X_test_real_zeros)"
      ],
      "execution_count": null,
      "outputs": []
    },
    {
      "cell_type": "code",
      "metadata": {
        "id": "ywQ6RlDOhzxk"
      },
      "source": [
        "# Складываем вещественные и категориальные признаки\n",
        "X_train_lasso = np.hstack((X_train_lasso,  stratify_X_train_cat_oh))\n",
        "X_test_lasso = np.hstack((X_test_lasso,  stratify_X_test_cat_oh))"
      ],
      "execution_count": null,
      "outputs": []
    },
    {
      "cell_type": "code",
      "metadata": {
        "id": "jB-Dp2Hahzxm"
      },
      "source": [
        "# Создаем классификатор с поправкой на баланс признаков методом №1\n",
        "estimator_lasso = LogisticRegression(class_weight='balanced', penalty=\"l1\", solver='liblinear')"
      ],
      "execution_count": null,
      "outputs": []
    },
    {
      "cell_type": "code",
      "metadata": {
        "id": "ks1-dxNXhzxo",
        "colab": {
          "base_uri": "https://localhost:8080/",
          "height": 126
        },
        "outputId": "d23a1ad4-5727-4fcd-c207-fda57dfb874f"
      },
      "source": [
        "# Обучаем модель\n",
        "grid_cv_lasso = GridSearchCV(estimator_lasso, param_grid, cv=cv, n_jobs=-1)\n",
        "grid_cv_lasso.fit(X_train_lasso, stratify_y_train)\n",
        "print(grid_cv_lasso.best_params_)\n",
        "print(grid_cv_lasso.best_estimator_)"
      ],
      "execution_count": null,
      "outputs": [
        {
          "output_type": "stream",
          "text": [
            "{'C': 1}\n",
            "LogisticRegression(C=1, class_weight='balanced', dual=False, fit_intercept=True,\n",
            "                   intercept_scaling=1, l1_ratio=None, max_iter=100,\n",
            "                   multi_class='auto', n_jobs=None, penalty='l1',\n",
            "                   random_state=None, solver='liblinear', tol=0.0001, verbose=0,\n",
            "                   warm_start=False)\n"
          ],
          "name": "stdout"
        }
      ]
    },
    {
      "cell_type": "code",
      "metadata": {
        "id": "WFvBPvCyhzxr",
        "colab": {
          "base_uri": "https://localhost:8080/",
          "height": 269
        },
        "outputId": "c181ad72-78be-4392-e014-68431ac2e457"
      },
      "source": [
        "plot_scores(grid_cv_lasso)"
      ],
      "execution_count": null,
      "outputs": [
        {
          "output_type": "display_data",
          "data": {
            "image/png": "[encoded data removed]",
            "text/plain": [
              "<Figure size 432x288 with 1 Axes>"
            ]
          },
          "metadata": {
            "tags": [],
            "needs_background": "light"
          }
        }
      ]
    },
    {
      "cell_type": "code",
      "metadata": {
        "id": "G0ie593zhzxu",
        "colab": {
          "base_uri": "https://localhost:8080/",
          "height": 35
        },
        "outputId": "3d211421-82c3-4d84-b065-5057fb9e276b"
      },
      "source": [
        "# Находим площадь под ROC кривой\n",
        "predict_proba_lasso = grid_cv_lasso.predict_proba(X_test_lasso)[:, 1]\n",
        "AUC_lasso = roc_auc_score(stratify_y_test, predict_proba_lasso)\n",
        "AUC_lasso"
      ],
      "execution_count": null,
      "outputs": [
        {
          "output_type": "execute_result",
          "data": {
            "text/plain": [
              "0.8766096209056666"
            ]
          },
          "metadata": {
            "tags": []
          },
          "execution_count": 60
        }
      ]
    },
    {
      "cell_type": "code",
      "metadata": {
        "id": "JTrT32jZbTGM"
      },
      "source": [
        "def write_answer_6(features):\n",
        "    with open(\"preprocessing_lr_answer6.txt\", \"w\") as fout:\n",
        "        fout.write(\" \".join([str(num) for num in features]))\n",
        "        \n"
      ],
      "execution_count": null,
      "outputs": []
    }
  ]
}